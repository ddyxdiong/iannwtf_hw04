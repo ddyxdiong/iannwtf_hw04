{
 "cells": [
  {
   "cell_type": "code",
   "execution_count": 21,
   "metadata": {
    "executionInfo": {
     "elapsed": 981,
     "status": "ok",
     "timestamp": 1606333704697,
     "user": {
      "displayName": "Dylan Diong",
      "photoUrl": "",
      "userId": "15577782786403664867"
     },
     "user_tz": -480
    },
    "id": "mRXmt5Vs0u-m"
   },
   "outputs": [],
   "source": [
    "import numpy as np\n",
    "import tensorflow as tf\n",
    "import matplotlib.pyplot as plt\n",
    "import tensorflow_datasets as tfds\n",
    "from tensorflow.keras.models import Model\n",
    "import datetime\n",
    "import time\n",
    "from math import ceil\n",
    "\n",
    "#add comment\n",
    "\"\"\"\n",
    "Hyperparameters for training and dataset initialization\n",
    "\"\"\"\n",
    "IMAGE_SIZE = [125, 135]\n",
    "BATCH_SIZE = 64\n",
    "training_percentage = 0.8"
   ]
  },
  {
   "cell_type": "code",
   "execution_count": 22,
   "metadata": {
    "colab": {
     "base_uri": "https://localhost:8080/"
    },
    "executionInfo": {
     "elapsed": 1538,
     "status": "ok",
     "timestamp": 1606333705258,
     "user": {
      "displayName": "Dylan Diong",
      "photoUrl": "",
      "userId": "15577782786403664867"
     },
     "user_tz": -480
    },
    "id": "BXd47x280mlI",
    "outputId": "9f97df29-ac37-47a4-f4cd-76638451ca53"
   },
   "outputs": [
    {
     "name": "stdout",
     "output_type": "stream",
     "text": [
      "[name: \"/device:CPU:0\"\n",
      "device_type: \"CPU\"\n",
      "memory_limit: 268435456\n",
      "locality {\n",
      "}\n",
      "incarnation: 3753636416955515919\n",
      ", name: \"/device:XLA_CPU:0\"\n",
      "device_type: \"XLA_CPU\"\n",
      "memory_limit: 17179869184\n",
      "locality {\n",
      "}\n",
      "incarnation: 13770826384877977521\n",
      "physical_device_desc: \"device: XLA_CPU device\"\n",
      ", name: \"/device:XLA_GPU:0\"\n",
      "device_type: \"XLA_GPU\"\n",
      "memory_limit: 17179869184\n",
      "locality {\n",
      "}\n",
      "incarnation: 2563655450892838050\n",
      "physical_device_desc: \"device: XLA_GPU device\"\n",
      ", name: \"/device:GPU:0\"\n",
      "device_type: \"GPU\"\n",
      "memory_limit: 11146783616\n",
      "locality {\n",
      "  bus_id: 1\n",
      "  links {\n",
      "  }\n",
      "}\n",
      "incarnation: 4329387598687780113\n",
      "physical_device_desc: \"device: 0, name: Tesla K80, pci bus id: 0000:00:04.0, compute capability: 3.7\"\n",
      "]\n"
     ]
    }
   ],
   "source": [
    "from tensorflow.python.client import device_lib\n",
    "print(device_lib.list_local_devices())\n",
    "\n",
    "#Checking which device the code is running on"
   ]
  },
  {
   "cell_type": "code",
   "execution_count": 23,
   "metadata": {
    "executionInfo": {
     "elapsed": 1536,
     "status": "ok",
     "timestamp": 1606333705260,
     "user": {
      "displayName": "Dylan Diong",
      "photoUrl": "",
      "userId": "15577782786403664867"
     },
     "user_tz": -480
    },
    "id": "3TYf7CKp00-K"
   },
   "outputs": [],
   "source": [
    "\"\"\"\n",
    "Utility functions used for data processing\n",
    "\"\"\"\n",
    "def resize(image):\n",
    "    # option 1: first normalize the image to (-1,1)\n",
    "\n",
    "    # option 2: standardization\n",
    "    image = tf.image.per_image_standardization(image)\n",
    "    # resize to 125, 135 (preserving the aspect ration) with 0-padding\n",
    "    image = tf.image.resize_with_pad(image,\n",
    "                                     IMAGE_SIZE[0],\n",
    "                                     IMAGE_SIZE[1],\n",
    "                                     method=tf.image.ResizeMethod.BILINEAR,\n",
    "                                     antialias=False\n",
    "                                     )\n",
    "    return image\n",
    "\n",
    "def show_images(dataset, n):\n",
    "  for image, label in dataset.take(n):\n",
    "    plt.figure(figsize=(5, 5))\n",
    "    plt.imshow(image.numpy().astype(\"uint8\"))\n",
    "    plt.title(str(label))\n",
    "    plt.axis(\"off\")\n",
    "    plt.show()"
   ]
  },
  {
   "cell_type": "code",
   "execution_count": 24,
   "metadata": {
    "colab": {
     "base_uri": "https://localhost:8080/"
    },
    "executionInfo": {
     "elapsed": 1894707,
     "status": "ok",
     "timestamp": 1606335598434,
     "user": {
      "displayName": "Dylan Diong",
      "photoUrl": "",
      "userId": "15577782786403664867"
     },
     "user_tz": -480
    },
    "id": "6ANvEroy034i",
    "outputId": "d82d5ca1-4719-49ed-b503-9df61351f475"
   },
   "outputs": [
    {
     "name": "stdout",
     "output_type": "stream",
     "text": [
      "Epoch 1/10\n",
      "  2/345 [..............................] - ETA: 1:54 - loss: 1.1552 - BinAccuracy: 0.5078WARNING:tensorflow:Callbacks method `on_train_batch_end` is slow compared to the batch time (batch time: 0.1556s vs `on_train_batch_end` time: 0.4201s). Check your callbacks.\n"
     ]
    },
    {
     "name": "stderr",
     "output_type": "stream",
     "text": [
      "WARNING:tensorflow:Callbacks method `on_train_batch_end` is slow compared to the batch time (batch time: 0.1556s vs `on_train_batch_end` time: 0.4201s). Check your callbacks.\n"
     ]
    },
    {
     "name": "stdout",
     "output_type": "stream",
     "text": [
      "345/345 [==============================] - 241s 700ms/step - loss: 0.3940 - BinAccuracy: 0.8284 - val_loss: 1.9858 - val_BinAccuracy: 0.5000\n",
      "Epoch 2/10\n",
      "345/345 [==============================] - 182s 529ms/step - loss: 0.1983 - BinAccuracy: 0.9304 - val_loss: 0.1967 - val_BinAccuracy: 0.9331\n",
      "Epoch 3/10\n",
      "345/345 [==============================] - 183s 530ms/step - loss: 0.1676 - BinAccuracy: 0.9412 - val_loss: 0.1902 - val_BinAccuracy: 0.9351\n",
      "Epoch 4/10\n",
      "345/345 [==============================] - 180s 523ms/step - loss: 0.1514 - BinAccuracy: 0.9478 - val_loss: 0.1898 - val_BinAccuracy: 0.9187\n",
      "Epoch 5/10\n",
      "345/345 [==============================] - 183s 531ms/step - loss: 0.1405 - BinAccuracy: 0.9507 - val_loss: 0.1722 - val_BinAccuracy: 0.9363\n",
      "Epoch 6/10\n",
      "345/345 [==============================] - 183s 531ms/step - loss: 0.1226 - BinAccuracy: 0.9575 - val_loss: 0.1498 - val_BinAccuracy: 0.9494\n",
      "Epoch 7/10\n",
      "345/345 [==============================] - 181s 525ms/step - loss: 0.1124 - BinAccuracy: 0.9603 - val_loss: 0.1601 - val_BinAccuracy: 0.9459\n",
      "Epoch 8/10\n",
      "345/345 [==============================] - 183s 531ms/step - loss: 0.1009 - BinAccuracy: 0.9646 - val_loss: 0.1650 - val_BinAccuracy: 0.9483\n",
      "Epoch 9/10\n",
      "345/345 [==============================] - 181s 524ms/step - loss: 0.0904 - BinAccuracy: 0.9684 - val_loss: 0.1584 - val_BinAccuracy: 0.9483\n",
      "Epoch 10/10\n",
      "345/345 [==============================] - 183s 529ms/step - loss: 0.0826 - BinAccuracy: 0.9703 - val_loss: 0.1749 - val_BinAccuracy: 0.9501\n",
      "87/87 [==============================] - 7s 77ms/step - loss: 0.1749 - BinAccuracy: 0.9501\n"
     ]
    },
    {
     "data": {
      "text/plain": [
       "[0.17485393583774567, 0.9501088261604309]"
      ]
     },
     "execution_count": 24,
     "metadata": {
      "tags": []
     },
     "output_type": "execute_result"
    }
   ],
   "source": [
    "\n",
    "#Loading dataset and resizing the images before allocating them to training and testing datasets.\n",
    "\n",
    "malaria_ds = tfds.load('malaria', split='train', shuffle_files=True, as_supervised=True, download=True, with_info=False)\n",
    "malaria_ds = malaria_ds.map(lambda image, label: (resize(image), tf.one_hot(label, 2)))\n",
    "ds_size = 27558 #as given by the dataset documentation\n",
    "\n",
    "#Split dataset between training and testing(validation)\n",
    "train_ds = malaria_ds.take(int(ds_size * training_percentage))\n",
    "val_ds = malaria_ds.skip(int(ds_size * training_percentage))\n",
    "\n",
    "train_ds=(train_ds.cache().batch(BATCH_SIZE))\n",
    "val_ds= (val_ds.cache().batch(BATCH_SIZE))\n",
    "\n",
    "#randomly flip some images (disabled cause it didn't significantly improve accuracy despite the additional time cost)\n",
    "if 1==0:\n",
    "  print(\"Flipping images randomly\")\n",
    "  count = 0\n",
    "  for image, label in malaria_ds:\n",
    "    tf.image.random_flip_left_right(image, seed=None)\n",
    "    tf.image.random_flip_up_down(image, seed=None)\n",
    "    count+=1\n",
    "    if (count%int((ds_size/10))==0):\n",
    "      percentage = count/ds_size\n",
    "      progstring = \"Progress: \" + str(ceil(percentage*100)) + \"%\"\n",
    "      print(progstring)\n",
    "  print(\"Image flipping complete.\")\n",
    "\n",
    "def conv_block(filters):\n",
    "  block = tf.keras.Sequential([\n",
    "      tf.keras.layers.SeparableConv2D(filters, 3, activation='relu', padding='same'),\n",
    "      tf.keras.layers.SeparableConv2D(filters, 3, activation='relu', padding='same'),\n",
    "      tf.keras.layers.BatchNormalization(),\n",
    "      tf.keras.layers.MaxPool2D()\n",
    "  ]\n",
    "  )\n",
    "\n",
    "  return block\n",
    "\n",
    "def dense_block(units, dropout_rate):\n",
    "  block = tf.keras.Sequential([\n",
    "      tf.keras.layers.Dense(units, activation='relu'),\n",
    "      tf.keras.layers.BatchNormalization(),\n",
    "      tf.keras.layers.Dropout(dropout_rate)\n",
    "  ])\n",
    "\n",
    "  return block\n",
    "  \n",
    "def build_model():\n",
    "  model = tf.keras.Sequential([\n",
    "      tf.keras.Input(shape=(IMAGE_SIZE[0], IMAGE_SIZE[1], 3)),\n",
    "      conv_block(64),\n",
    "      conv_block(16),\n",
    "      conv_block(32),\n",
    "      tf.keras.layers.Flatten(),\n",
    "      dense_block(32, 0.2),\n",
    "      dense_block(32, 0.2),\n",
    "      tf.keras.layers.Dense(2,activation='softmax')\n",
    "  ])\n",
    "\n",
    "  return model\n",
    "\n",
    "\n",
    "#Training starts here\n",
    "\n",
    "model = build_model()\n",
    "model.compile(\n",
    "    optimizer='adam',\n",
    "    loss=tf.keras.losses.BinaryCrossentropy(),\n",
    "    metrics=tf.keras.metrics.BinaryAccuracy(name='BinAccuracy') #used because label is either 0 or 1\n",
    ")\n",
    "\n",
    "log_dir = \"logs/fit/\" + datetime.datetime.now().strftime(\"%Y%m%d-%H%M%S\")\n",
    "\n",
    "\n",
    "history = model.fit(\n",
    "    train_ds, epochs=10, validation_data=val_ds\n",
    ")\n",
    "\n",
    "model.evaluate(val_ds)"
   ]
  },
  {
   "cell_type": "code",
   "execution_count": 25,
   "metadata": {
    "colab": {
     "base_uri": "https://localhost:8080/",
     "height": 948
    },
    "executionInfo": {
     "elapsed": 1895301,
     "status": "ok",
     "timestamp": 1606335599032,
     "user": {
      "displayName": "Dylan Diong",
      "photoUrl": "",
      "userId": "15577782786403664867"
     },
     "user_tz": -480
    },
    "id": "aKnxLiKU1sNR",
    "outputId": "c6d2cdfa-d3d5-49a0-dce7-cb4905cb71ea"
   },
   "outputs": [
    {
     "name": "stdout",
     "output_type": "stream",
     "text": [
      "Model: \"sequential_29\"\n",
      "_________________________________________________________________\n",
      "Layer (type)                 Output Shape              Param #   \n",
      "=================================================================\n",
      "sequential_24 (Sequential)   (None, 62, 67, 64)        5275      \n",
      "_________________________________________________________________\n",
      "sequential_25 (Sequential)   (None, 31, 33, 16)        2096      \n",
      "_________________________________________________________________\n",
      "sequential_26 (Sequential)   (None, 15, 16, 32)        2160      \n",
      "_________________________________________________________________\n",
      "flatten_4 (Flatten)          (None, 7680)              0         \n",
      "_________________________________________________________________\n",
      "sequential_27 (Sequential)   (None, 32)                245920    \n",
      "_________________________________________________________________\n",
      "sequential_28 (Sequential)   (None, 32)                1184      \n",
      "_________________________________________________________________\n",
      "dense_14 (Dense)             (None, 2)                 66        \n",
      "=================================================================\n",
      "Total params: 256,701\n",
      "Trainable params: 256,349\n",
      "Non-trainable params: 352\n",
      "_________________________________________________________________\n"
     ]
    },
    {
     "data": {
      "image/png": "[encoded data removed]",
      "text/plain": [
       "<Figure size 432x288 with 1 Axes>"
      ]
     },
     "metadata": {
      "needs_background": "light",
      "tags": []
     },
     "output_type": "display_data"
    },
    {
     "data": {
      "image/png": "[encoded data removed]",
      "text/plain": [
       "<Figure size 432x288 with 1 Axes>"
      ]
     },
     "metadata": {
      "needs_background": "light",
      "tags": []
     },
     "output_type": "display_data"
    }
   ],
   "source": [
    "model.summary()\n",
    "\n",
    "#Training visualization\n",
    "#Top plot denotes losses for training and tests\n",
    "#Bottom plot denotes accuracies for training and tests\n",
    "\n",
    "\n",
    "plt.figure()\n",
    "line1, = plt.plot(history.history['loss'])\n",
    "line2, = plt.plot(history.history['val_loss'])\n",
    "plt.xlabel(\"Training steps\")\n",
    "plt.ylabel(\"Loss\")\n",
    "plt.legend((line1, line2), (\"training\", \"test\"))\n",
    "plt.show()\n",
    "\n",
    "plt.figure()\n",
    "line1, = plt.plot(history.history['BinAccuracy'])\n",
    "line2, = plt.plot(history.history['val_BinAccuracy'])\n",
    "plt.legend((line1, line2), (\"training\", \"test\"))\n",
    "plt.xlabel(\"Training steps\")\n",
    "plt.ylabel(\"Accuracy\")\n",
    "plt.show()"
   ]
  },
  {
   "cell_type": "code",
   "execution_count": 25,
   "metadata": {
    "executionInfo": {
     "elapsed": 1895298,
     "status": "ok",
     "timestamp": 1606335599033,
     "user": {
      "displayName": "Dylan Diong",
      "photoUrl": "",
      "userId": "15577782786403664867"
     },
     "user_tz": -480
    },
    "id": "UOX69D6pJC0r"
   },
   "outputs": [],
   "source": []
  }
 ],
 "metadata": {
  "accelerator": "GPU",
  "colab": {
   "authorship_tag": "ABX9TyMCWpVzVAm6UUEUmyozh5CM",
   "name": "homework04_exp.ipynb",
   "provenance": []
  },
  "kernelspec": {
   "display_name": "Python 3",
   "language": "python",
   "name": "python3"
  },
  "language_info": {
   "codemirror_mode": {
    "name": "ipython",
    "version": 3
   },
   "file_extension": ".py",
   "mimetype": "text/x-python",
   "name": "python",
   "nbconvert_exporter": "python",
   "pygments_lexer": "ipython3",
   "version": "3.7.9"
  }
 },
 "nbformat": 4,
 "nbformat_minor": 1
}
